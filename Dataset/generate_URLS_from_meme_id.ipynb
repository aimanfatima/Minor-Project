{
 "cells": [
  {
   "cell_type": "code",
   "execution_count": 1,
   "metadata": {},
   "outputs": [],
   "source": [
    "import pandas"
   ]
  },
  {
   "cell_type": "code",
   "execution_count": 11,
   "metadata": {},
   "outputs": [],
   "source": [
    "dataset = pandas.read_csv(\"memes.csv\", names = ['meme_id', 'data_id', 'ratings', 'meme_template_name', 'date_of_creation'])"
   ]
  },
  {
   "cell_type": "code",
   "execution_count": 12,
   "metadata": {},
   "outputs": [
    {
     "data": {
      "text/html": [
       "<div>\n",
       "<style scoped>\n",
       "    .dataframe tbody tr th:only-of-type {\n",
       "        vertical-align: middle;\n",
       "    }\n",
       "\n",
       "    .dataframe tbody tr th {\n",
       "        vertical-align: top;\n",
       "    }\n",
       "\n",
       "    .dataframe thead th {\n",
       "        text-align: right;\n",
       "    }\n",
       "</style>\n",
       "<table border=\"1\" class=\"dataframe\">\n",
       "  <thead>\n",
       "    <tr style=\"text-align: right;\">\n",
       "      <th></th>\n",
       "      <th>meme_id</th>\n",
       "      <th>data_id</th>\n",
       "      <th>ratings</th>\n",
       "      <th>meme_template_name</th>\n",
       "      <th>date_of_creation</th>\n",
       "    </tr>\n",
       "  </thead>\n",
       "  <tbody>\n",
       "    <tr>\n",
       "      <th>0</th>\n",
       "      <td>353mvs</td>\n",
       "      <td>189966232</td>\n",
       "      <td>2</td>\n",
       "      <td>Emma Watson Troll</td>\n",
       "      <td>2011-9-3</td>\n",
       "    </tr>\n",
       "    <tr>\n",
       "      <th>1</th>\n",
       "      <td>353mw1</td>\n",
       "      <td>189966241</td>\n",
       "      <td>3</td>\n",
       "      <td>Emma Watson Troll</td>\n",
       "      <td>2011-9-3</td>\n",
       "    </tr>\n",
       "    <tr>\n",
       "      <th>2</th>\n",
       "      <td>353mw5</td>\n",
       "      <td>189966245</td>\n",
       "      <td>445</td>\n",
       "      <td>The Most Interesting Man In The World</td>\n",
       "      <td>2011-9-3</td>\n",
       "    </tr>\n",
       "    <tr>\n",
       "      <th>3</th>\n",
       "      <td>353mxa</td>\n",
       "      <td>189966286</td>\n",
       "      <td>39</td>\n",
       "      <td>Irrational Shaggy</td>\n",
       "      <td>2011-9-3</td>\n",
       "    </tr>\n",
       "    <tr>\n",
       "      <th>4</th>\n",
       "      <td>353my8</td>\n",
       "      <td>189966320</td>\n",
       "      <td>1383</td>\n",
       "      <td>Redditors Wife</td>\n",
       "      <td>2011-9-3</td>\n",
       "    </tr>\n",
       "  </tbody>\n",
       "</table>\n",
       "</div>"
      ],
      "text/plain": [
       "  meme_id    data_id  ratings                     meme_template_name  \\\n",
       "0  353mvs  189966232        2                      Emma Watson Troll   \n",
       "1  353mw1  189966241        3                      Emma Watson Troll   \n",
       "2  353mw5  189966245      445  The Most Interesting Man In The World   \n",
       "3  353mxa  189966286       39                      Irrational Shaggy   \n",
       "4  353my8  189966320     1383                         Redditors Wife   \n",
       "\n",
       "  date_of_creation  \n",
       "0         2011-9-3  \n",
       "1         2011-9-3  \n",
       "2         2011-9-3  \n",
       "3         2011-9-3  \n",
       "4         2011-9-3  "
      ]
     },
     "execution_count": 12,
     "metadata": {},
     "output_type": "execute_result"
    }
   ],
   "source": [
    "dataset.head()"
   ]
  },
  {
   "cell_type": "code",
   "execution_count": 13,
   "metadata": {},
   "outputs": [
    {
     "name": "stdout",
     "output_type": "stream",
     "text": [
      "<class 'pandas.core.frame.DataFrame'>\n",
      "RangeIndex: 178801 entries, 0 to 178800\n",
      "Data columns (total 5 columns):\n",
      "meme_id               178801 non-null object\n",
      "data_id               178801 non-null int64\n",
      "ratings               178801 non-null int64\n",
      "meme_template_name    178801 non-null object\n",
      "date_of_creation      178801 non-null object\n",
      "dtypes: int64(2), object(3)\n",
      "memory usage: 6.8+ MB\n"
     ]
    }
   ],
   "source": [
    "dataset.info()"
   ]
  },
  {
   "cell_type": "code",
   "execution_count": 15,
   "metadata": {},
   "outputs": [],
   "source": [
    "dataset['url'] = 'http://i.qkme.me/' + dataset['meme_id'] + '.jpg'"
   ]
  },
  {
   "cell_type": "code",
   "execution_count": 16,
   "metadata": {},
   "outputs": [
    {
     "data": {
      "text/html": [
       "<div>\n",
       "<style scoped>\n",
       "    .dataframe tbody tr th:only-of-type {\n",
       "        vertical-align: middle;\n",
       "    }\n",
       "\n",
       "    .dataframe tbody tr th {\n",
       "        vertical-align: top;\n",
       "    }\n",
       "\n",
       "    .dataframe thead th {\n",
       "        text-align: right;\n",
       "    }\n",
       "</style>\n",
       "<table border=\"1\" class=\"dataframe\">\n",
       "  <thead>\n",
       "    <tr style=\"text-align: right;\">\n",
       "      <th></th>\n",
       "      <th>meme_id</th>\n",
       "      <th>data_id</th>\n",
       "      <th>ratings</th>\n",
       "      <th>meme_template_name</th>\n",
       "      <th>date_of_creation</th>\n",
       "      <th>url</th>\n",
       "    </tr>\n",
       "  </thead>\n",
       "  <tbody>\n",
       "    <tr>\n",
       "      <th>0</th>\n",
       "      <td>353mvs</td>\n",
       "      <td>189966232</td>\n",
       "      <td>2</td>\n",
       "      <td>Emma Watson Troll</td>\n",
       "      <td>2011-9-3</td>\n",
       "      <td>http://i.qkme.me/353mvs.jpg</td>\n",
       "    </tr>\n",
       "    <tr>\n",
       "      <th>1</th>\n",
       "      <td>353mw1</td>\n",
       "      <td>189966241</td>\n",
       "      <td>3</td>\n",
       "      <td>Emma Watson Troll</td>\n",
       "      <td>2011-9-3</td>\n",
       "      <td>http://i.qkme.me/353mw1.jpg</td>\n",
       "    </tr>\n",
       "    <tr>\n",
       "      <th>2</th>\n",
       "      <td>353mw5</td>\n",
       "      <td>189966245</td>\n",
       "      <td>445</td>\n",
       "      <td>The Most Interesting Man In The World</td>\n",
       "      <td>2011-9-3</td>\n",
       "      <td>http://i.qkme.me/353mw5.jpg</td>\n",
       "    </tr>\n",
       "    <tr>\n",
       "      <th>3</th>\n",
       "      <td>353mxa</td>\n",
       "      <td>189966286</td>\n",
       "      <td>39</td>\n",
       "      <td>Irrational Shaggy</td>\n",
       "      <td>2011-9-3</td>\n",
       "      <td>http://i.qkme.me/353mxa.jpg</td>\n",
       "    </tr>\n",
       "    <tr>\n",
       "      <th>4</th>\n",
       "      <td>353my8</td>\n",
       "      <td>189966320</td>\n",
       "      <td>1383</td>\n",
       "      <td>Redditors Wife</td>\n",
       "      <td>2011-9-3</td>\n",
       "      <td>http://i.qkme.me/353my8.jpg</td>\n",
       "    </tr>\n",
       "  </tbody>\n",
       "</table>\n",
       "</div>"
      ],
      "text/plain": [
       "  meme_id    data_id  ratings                     meme_template_name  \\\n",
       "0  353mvs  189966232        2                      Emma Watson Troll   \n",
       "1  353mw1  189966241        3                      Emma Watson Troll   \n",
       "2  353mw5  189966245      445  The Most Interesting Man In The World   \n",
       "3  353mxa  189966286       39                      Irrational Shaggy   \n",
       "4  353my8  189966320     1383                         Redditors Wife   \n",
       "\n",
       "  date_of_creation                          url  \n",
       "0         2011-9-3  http://i.qkme.me/353mvs.jpg  \n",
       "1         2011-9-3  http://i.qkme.me/353mw1.jpg  \n",
       "2         2011-9-3  http://i.qkme.me/353mw5.jpg  \n",
       "3         2011-9-3  http://i.qkme.me/353mxa.jpg  \n",
       "4         2011-9-3  http://i.qkme.me/353my8.jpg  "
      ]
     },
     "execution_count": 16,
     "metadata": {},
     "output_type": "execute_result"
    }
   ],
   "source": [
    "dataset.head()"
   ]
  },
  {
   "cell_type": "code",
   "execution_count": 17,
   "metadata": {},
   "outputs": [],
   "source": [
    "dataset.to_csv(\"data_with_url.csv\", encoding='utf-8', index=False)"
   ]
  },
  {
   "cell_type": "code",
   "execution_count": 18,
   "metadata": {},
   "outputs": [],
   "source": [
    "url = dataset['url']"
   ]
  },
  {
   "cell_type": "code",
   "execution_count": 19,
   "metadata": {},
   "outputs": [
    {
     "data": {
      "text/plain": [
       "0    http://i.qkme.me/353mvs.jpg\n",
       "1    http://i.qkme.me/353mw1.jpg\n",
       "2    http://i.qkme.me/353mw5.jpg\n",
       "3    http://i.qkme.me/353mxa.jpg\n",
       "4    http://i.qkme.me/353my8.jpg\n",
       "Name: url, dtype: object"
      ]
     },
     "execution_count": 19,
     "metadata": {},
     "output_type": "execute_result"
    }
   ],
   "source": [
    "url.head()"
   ]
  },
  {
   "cell_type": "code",
   "execution_count": 21,
   "metadata": {},
   "outputs": [
    {
     "name": "stderr",
     "output_type": "stream",
     "text": [
      "c:\\users\\aiman fatima\\appdata\\local\\programs\\python\\python37\\lib\\site-packages\\ipykernel_launcher.py:1: FutureWarning: The signature of `Series.to_csv` was aligned to that of `DataFrame.to_csv`, and argument 'header' will change its default value from False to True: please pass an explicit value to suppress this warning.\n",
      "  \"\"\"Entry point for launching an IPython kernel.\n"
     ]
    }
   ],
   "source": [
    "url.to_csv(\"url.csv\", encoding='utf-8', index=False)"
   ]
  },
  {
   "cell_type": "code",
   "execution_count": null,
   "metadata": {},
   "outputs": [],
   "source": []
  }
 ],
 "metadata": {
  "kernelspec": {
   "display_name": "Python 3",
   "language": "python",
   "name": "python3"
  },
  "language_info": {
   "codemirror_mode": {
    "name": "ipython",
    "version": 3
   },
   "file_extension": ".py",
   "mimetype": "text/x-python",
   "name": "python",
   "nbconvert_exporter": "python",
   "pygments_lexer": "ipython3",
   "version": "3.7.4"
  }
 },
 "nbformat": 4,
 "nbformat_minor": 2
}
